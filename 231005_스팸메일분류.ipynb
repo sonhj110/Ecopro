{
  "nbformat": 4,
  "nbformat_minor": 0,
  "metadata": {
    "colab": {
      "provenance": [],
      "authorship_tag": "ABX9TyPeILlj6hDSiRfmL8ZjgF77",
      "include_colab_link": true
    },
    "kernelspec": {
      "name": "python3",
      "display_name": "Python 3"
    },
    "language_info": {
      "name": "python"
    }
  },
  "cells": [
    {
      "cell_type": "markdown",
      "metadata": {
        "id": "view-in-github",
        "colab_type": "text"
      },
      "source": [
        "<a href=\"https://colab.research.google.com/github/sonhj110/Ecopro/blob/master/231005_%EC%8A%A4%ED%8C%B8%EB%A9%94%EC%9D%BC%EB%B6%84%EB%A5%98.ipynb\" target=\"_parent\"><img src=\"https://colab.research.google.com/assets/colab-badge.svg\" alt=\"Open In Colab\"/></a>"
      ]
    },
    {
      "cell_type": "code",
      "source": [
        "import numpy as np"
      ],
      "metadata": {
        "id": "E5YmhpKDk4nl"
      },
      "execution_count": 9,
      "outputs": []
    },
    {
      "cell_type": "code",
      "execution_count": 119,
      "metadata": {
        "colab": {
          "base_uri": "https://localhost:8080/"
        },
        "id": "LKs7tIzpjiB-",
        "outputId": "86019540-528b-4ac8-9897-5e9e56446494"
      },
      "outputs": [
        {
          "output_type": "execute_result",
          "data": {
            "text/plain": [
              "True"
            ]
          },
          "metadata": {},
          "execution_count": 119
        }
      ],
      "source": [
        "# 1이 스팸, 0이 정상\n",
        "training_set = [['me free lottery', 1],\n",
        "                ['free get free you', 1],\n",
        "                ['you free scholarship', 0],\n",
        "                ['free to contact me', 0],\n",
        "                ['you won award', 0],\n",
        "                ['you ticket lottery', 1]]\n",
        "\n",
        "test = ['free lottery']\n",
        "\n",
        "'free' in test[0]"
      ]
    },
    {
      "cell_type": "code",
      "source": [
        "test_word = test[0].split(' ')\n",
        "test_word"
      ],
      "metadata": {
        "colab": {
          "base_uri": "https://localhost:8080/"
        },
        "id": "vCKCBsaw2osv",
        "outputId": "5c9b8ed9-7f0a-4260-a279-9ef6a5c369f6"
      },
      "execution_count": 120,
      "outputs": [
        {
          "output_type": "execute_result",
          "data": {
            "text/plain": [
              "['free', 'lottery']"
            ]
          },
          "metadata": {},
          "execution_count": 120
        }
      ]
    },
    {
      "cell_type": "code",
      "source": [
        "input_word = np.array(training_set)\n",
        "input_word"
      ],
      "metadata": {
        "colab": {
          "base_uri": "https://localhost:8080/"
        },
        "id": "pWK64xW0a0RS",
        "outputId": "571a4986-17e0-4a10-c286-53ace073608a"
      },
      "execution_count": 121,
      "outputs": [
        {
          "output_type": "execute_result",
          "data": {
            "text/plain": [
              "array([['me free lottery', '1'],\n",
              "       ['free get free you', '1'],\n",
              "       ['you free scholarship', '0'],\n",
              "       ['free to contact me', '0'],\n",
              "       ['you won award', '0'],\n",
              "       ['you ticket lottery', '1']], dtype='<U21')"
            ]
          },
          "metadata": {},
          "execution_count": 121
        }
      ]
    },
    {
      "cell_type": "code",
      "source": [
        "\n",
        "wordlist = []\n",
        "\n",
        "for w in input_word[:, 0] :\n",
        "  for i in range(len(w.split(' '))) :\n",
        "    wordlist.append(w.split(' ')[i])\n",
        "\n",
        "\n",
        "print(wordlist)\n",
        "wordlist = list(set(wordlist))\n",
        "wordlist.sort()\n",
        "print(wordlist)\n",
        ""
      ],
      "metadata": {
        "colab": {
          "base_uri": "https://localhost:8080/"
        },
        "id": "sbNIx8IFkJjQ",
        "outputId": "c8b9c5d3-b59e-416f-b0e2-a2f5ac519070"
      },
      "execution_count": 30,
      "outputs": [
        {
          "output_type": "stream",
          "name": "stdout",
          "text": [
            "['me', 'free', 'lottery', 'free', 'get', 'free', 'you', 'you', 'free', 'scholarship', 'free', 'to', 'contact', 'me', 'you', 'won', 'award', 'you', 'ticket', 'lottery']\n",
            "['award', 'contact', 'free', 'get', 'lottery', 'me', 'scholarship', 'ticket', 'to', 'won', 'you']\n"
          ]
        }
      ]
    },
    {
      "cell_type": "code",
      "source": [
        "print(input_word)\n",
        "for main in input_word :\n",
        "  print(main[0], main[1])"
      ],
      "metadata": {
        "colab": {
          "base_uri": "https://localhost:8080/"
        },
        "id": "9IWPn5p2kNTh",
        "outputId": "b98842c2-e87e-4b36-92c5-ba44b77a377e"
      },
      "execution_count": 41,
      "outputs": [
        {
          "output_type": "stream",
          "name": "stdout",
          "text": [
            "[['me free lottery' '1']\n",
            " ['free get free you' '1']\n",
            " ['you free scholarship' '0']\n",
            " ['free to contact me' '0']\n",
            " ['you won award' '0']\n",
            " ['you ticket lottery' '1']]\n",
            "me free lottery 1\n",
            "free get free you 1\n",
            "you free scholarship 0\n",
            "free to contact me 0\n",
            "you won award 0\n",
            "you ticket lottery 1\n"
          ]
        }
      ]
    },
    {
      "cell_type": "code",
      "source": [
        "norm = 0\n",
        "spam = 0\n",
        "freq = []\n",
        "\n",
        "totalSpam = 0\n",
        "totalNorm = 0\n",
        "\n",
        "\n",
        "\n",
        "for word in wordlist :\n",
        "  norm = 0\n",
        "  spam = 0\n",
        "  for main in input_word :\n",
        "    if word in main[0] :\n",
        "      if main[1] == '1' :\n",
        "        spam += 1\n",
        "      else :\n",
        "        norm += 1\n",
        "    else :\n",
        "      pass\n",
        "  totalSpam += spam\n",
        "  totalNorm += norm\n",
        "  freq.append([word, spam, norm])\n",
        "\n",
        "print(freq)\n",
        "print(totalSpam, totalNorm)\n",
        "freq = np.array(freq)\n"
      ],
      "metadata": {
        "colab": {
          "base_uri": "https://localhost:8080/"
        },
        "id": "ACPPpfJen9lN",
        "outputId": "8ee640aa-97b6-4f8a-aa63-9b8618ba903c"
      },
      "execution_count": 68,
      "outputs": [
        {
          "output_type": "stream",
          "name": "stdout",
          "text": [
            "[['award', 0, 1], ['contact', 0, 1], ['free', 2, 2], ['get', 1, 0], ['lottery', 2, 0], ['me', 1, 1], ['scholarship', 0, 1], ['ticket', 1, 0], ['to', 0, 1], ['won', 0, 1], ['you', 2, 2]]\n",
            "9 10\n"
          ]
        }
      ]
    },
    {
      "cell_type": "code",
      "source": [
        "def p(x, y) :\n",
        "  k = 0.5\n",
        "  return round((k + x) / (2*k + y) * 100, 4)\n",
        "\n",
        "p(1,3)"
      ],
      "metadata": {
        "colab": {
          "base_uri": "https://localhost:8080/"
        },
        "id": "ON3rdzP0qIaI",
        "outputId": "622c1b58-6cef-4c96-ae34-a2563c4b27f8"
      },
      "execution_count": 90,
      "outputs": [
        {
          "output_type": "execute_result",
          "data": {
            "text/plain": [
              "37.5"
            ]
          },
          "metadata": {},
          "execution_count": 90
        }
      ]
    },
    {
      "cell_type": "code",
      "source": [
        "# 조건부 확률 P(A|B) = P(A교집합B) / P(B)\n",
        "\n",
        "wordPlist = []\n",
        "\n",
        "for wordP in freq :\n",
        "  # print(wordP)\n",
        "  wNorm = p(int(wordP[2]), totalNorm)\n",
        "  wSpam = p(int(wordP[1]), totalSpam)\n",
        "  wordPlist.append([wordP[0], wSpam, wNorm])\n",
        "\n",
        "wordPlist"
      ],
      "metadata": {
        "colab": {
          "base_uri": "https://localhost:8080/"
        },
        "id": "N1ONo_T7u_CT",
        "outputId": "5b7515e7-f264-48dc-ba34-5dc379b4ebaf"
      },
      "execution_count": 77,
      "outputs": [
        {
          "output_type": "execute_result",
          "data": {
            "text/plain": [
              "[['award', 5.0, 13.636363636363635],\n",
              " ['contact', 5.0, 13.636363636363635],\n",
              " ['free', 25.0, 22.727272727272727],\n",
              " ['get', 15.0, 4.545454545454546],\n",
              " ['lottery', 25.0, 4.545454545454546],\n",
              " ['me', 15.0, 13.636363636363635],\n",
              " ['scholarship', 5.0, 13.636363636363635],\n",
              " ['ticket', 15.0, 4.545454545454546],\n",
              " ['to', 5.0, 13.636363636363635],\n",
              " ['won', 5.0, 13.636363636363635],\n",
              " ['you', 25.0, 22.727272727272727]]"
            ]
          },
          "metadata": {},
          "execution_count": 77
        }
      ]
    },
    {
      "cell_type": "code",
      "source": [
        "import math\n",
        "\n",
        "def logP(x, y) :\n",
        "  k = 0.5\n",
        "  result = (k + x) / (2*k + y)\n",
        "  return round(math.log(result), 4)\n",
        "\n",
        "logP(1,3)"
      ],
      "metadata": {
        "colab": {
          "base_uri": "https://localhost:8080/"
        },
        "id": "7NzURx9QvcxT",
        "outputId": "03d12c9c-f169-423f-f861-6798feb68962"
      },
      "execution_count": 91,
      "outputs": [
        {
          "output_type": "execute_result",
          "data": {
            "text/plain": [
              "-0.9808"
            ]
          },
          "metadata": {},
          "execution_count": 91
        }
      ]
    },
    {
      "cell_type": "code",
      "source": [
        "wordPlist = []\n",
        "\n",
        "for wordP in freq :\n",
        "  # print(wordP)\n",
        "  wNorm = p(int(wordP[2]), totalNorm)\n",
        "  wSpam = p(int(wordP[1]), totalSpam)\n",
        "  wNormLog = logP(int(wordP[2]), totalNorm)\n",
        "  wSpamLog = logP(int(wordP[1]), totalSpam)\n",
        "  wordPlist.append([wordP[0], wSpam, wNorm, wSpamLog, wNormLog])\n",
        "\n",
        "wordPlist"
      ],
      "metadata": {
        "colab": {
          "base_uri": "https://localhost:8080/"
        },
        "id": "UAASvYrcxpko",
        "outputId": "86739a30-781f-4dec-fd16-b1e4f7967598"
      },
      "execution_count": 112,
      "outputs": [
        {
          "output_type": "execute_result",
          "data": {
            "text/plain": [
              "[['award', 5.0, 13.6364, -2.9957, -1.9924],\n",
              " ['contact', 5.0, 13.6364, -2.9957, -1.9924],\n",
              " ['free', 25.0, 22.7273, -1.3863, -1.4816],\n",
              " ['get', 15.0, 4.5455, -1.8971, -3.091],\n",
              " ['lottery', 25.0, 4.5455, -1.3863, -3.091],\n",
              " ['me', 15.0, 13.6364, -1.8971, -1.9924],\n",
              " ['scholarship', 5.0, 13.6364, -2.9957, -1.9924],\n",
              " ['ticket', 15.0, 4.5455, -1.8971, -3.091],\n",
              " ['to', 5.0, 13.6364, -2.9957, -1.9924],\n",
              " ['won', 5.0, 13.6364, -2.9957, -1.9924],\n",
              " ['you', 25.0, 22.7273, -1.3863, -1.4816]]"
            ]
          },
          "metadata": {},
          "execution_count": 112
        }
      ]
    },
    {
      "cell_type": "code",
      "source": [
        "free = wordPlist[2]\n",
        "lottery = wordPlist[4]\n",
        "_PofNorm = math.exp(free[4]+lottery[4]+logP(totalNorm, totalNorm+totalSpam))*100\n",
        "_PofSpam = math.exp(free[3]+lottery[3]+logP(totalSpam, totalNorm+totalSpam))*100\n",
        "print(_PofNorm, _PofSpam)"
      ],
      "metadata": {
        "colab": {
          "base_uri": "https://localhost:8080/"
        },
        "id": "5BUniE0lz4w8",
        "outputId": "c87d3f56-e4a2-4ebc-ebe4-311f78912cc2"
      },
      "execution_count": 113,
      "outputs": [
        {
          "output_type": "stream",
          "name": "stdout",
          "text": [
            "0.5423575471152589 2.9688366804151336\n"
          ]
        }
      ]
    },
    {
      "cell_type": "code",
      "source": [
        "PofNorm = round((_PofNorm / _PofNorm + _PofSpam), 2)\n",
        "PofSpam = round((_PofSpam / _PofNorm + _PofSpam), 2)\n",
        "print(PofNorm, PofSpam)"
      ],
      "metadata": {
        "colab": {
          "base_uri": "https://localhost:8080/"
        },
        "id": "OirV0RTI3fxL",
        "outputId": "f4344cb3-9ecd-4930-989b-6ed512e888ab"
      },
      "execution_count": 117,
      "outputs": [
        {
          "output_type": "stream",
          "name": "stdout",
          "text": [
            "3.97 8.44\n"
          ]
        }
      ]
    }
  ]
}